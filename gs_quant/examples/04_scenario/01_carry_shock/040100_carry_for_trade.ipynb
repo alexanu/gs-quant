{
 "cells": [
  {
   "cell_type": "code",
   "execution_count": 2,
   "metadata": {},
   "outputs": [],
   "source": [
    "import datetime as dt\n",
    "from gs_quant.common import PayReceive, Currency\n",
    "from gs_quant.instrument import IRSwaption\n",
    "from gs_quant.risk import CarryScenario\n",
    "from gs_quant.session import GsSession, Environment"
   ]
  },
  {
   "cell_type": "code",
   "execution_count": 3,
   "metadata": {},
   "outputs": [],
   "source": [
    "# external users should substitute their client id and secret; please skip this step if using internal jupyterhub\n",
    "GsSession.use(Environment.PROD, client_id=None, client_secret=None, scopes=('run_analytics',))"
   ]
  },
  {
   "cell_type": "code",
   "execution_count": 4,
   "metadata": {},
   "outputs": [],
   "source": [
    "swaption = IRSwaption(PayReceive.Receive, '5y', Currency.EUR, expirationDate=dt.date(2029, 10, 8), strike='atm')\n",
    "base_price = swaption.price()"
   ]
  },
  {
   "cell_type": "code",
   "execution_count": 6,
   "metadata": {},
   "outputs": [
    {
     "name": "stdout",
     "output_type": "stream",
     "text": [
      "Base price:     32,486.31\n",
      "Scenario price: 32,297.17\n",
      "Diff:           -189.13\n"
     ]
    }
   ],
   "source": [
    "# Carry Scenario - Shift forward 22 business days (1 month)\n",
    "swaption.resolve()  # fix expiry and maturity\n",
    "with CarryScenario(time_shift=22):\n",
    "    fwd_price = swaption.price()\n",
    "\n",
    "print('Base price:     {:,.2f}'.format(base_price))\n",
    "print('Scenario price: {:,.2f}'.format(fwd_price))\n",
    "print('Diff:           {:,.2f}'.format(fwd_price - base_price))"
   ]
  }
 ],
 "metadata": {
  "kernelspec": {
   "display_name": "Python 3",
   "language": "python",
   "name": "python3"
  },
  "language_info": {
   "codemirror_mode": {
    "name": "ipython",
    "version": 3
   },
   "file_extension": ".py",
   "mimetype": "text/x-python",
   "name": "python",
   "nbconvert_exporter": "python",
   "pygments_lexer": "ipython3",
   "version": "3.7.2"
  },
  "pycharm": {
   "stem_cell": {
    "cell_type": "raw",
    "metadata": {
     "collapsed": false
    },
    "source": []
   }
  }
 },
 "nbformat": 4,
 "nbformat_minor": 4
}
